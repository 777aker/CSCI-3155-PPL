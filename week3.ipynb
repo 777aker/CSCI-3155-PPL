{
 "cells": [
  {
   "cell_type": "markdown",
   "metadata": {},
   "source": [
    "## Outline\n",
    "1. Lists and Pattern Matching\n",
    "2. Higher-order Functions\n",
    "3. Abstract Syntax Tree\n"
   ]
  },
  {
   "cell_type": "markdown",
   "metadata": {},
   "source": [
    "## Lists and Pattern Matching"
   ]
  },
  {
   "cell_type": "markdown",
   "metadata": {},
   "source": [
    "Our inductive structure of choice for this problem is a linked list. The below code defines the structure."
   ]
  },
  {
   "cell_type": "code",
   "execution_count": 1,
   "metadata": {},
   "outputs": [
    {
     "data": {
      "text/plain": [
       "defined \u001b[32mtrait\u001b[39m \u001b[36mNumList\u001b[39m\r\n",
       "defined \u001b[32mobject\u001b[39m \u001b[36mMyNil\u001b[39m\r\n",
       "defined \u001b[32mclass\u001b[39m \u001b[36mMyCons\u001b[39m"
      ]
     },
     "execution_count": 1,
     "metadata": {},
     "output_type": "execute_result"
    }
   ],
   "source": [
    "sealed trait NumList\n",
    "case object MyNil extends NumList\n",
    "case class MyCons(firstElement : Int, restOfList : NumList) extends NumList"
   ]
  },
  {
   "cell_type": "markdown",
   "metadata": {},
   "source": [
    "Since it's an inductive structure, we can write a grammar for it:\n",
    "\n",
    "$$\n",
    "\\begin{array}{rcl}\n",
    "    \\textbf{NumList} & \\rightarrow & MyNil \\\\\n",
    "                     &           | & MyCons(\\textbf{Int}, \\textbf{NumList}) \\\\\n",
    "\\end{array}\n",
    "$$"
   ]
  },
  {
   "cell_type": "markdown",
   "metadata": {},
   "source": [
    "### Exercise: Writing lists\n",
    "Write out the following lists with our `NumList` class.\n",
    "\n",
    "1. `[]` (The empty list)\n",
    "2. `[1, 2, 3]`"
   ]
  },
  {
   "cell_type": "code",
   "execution_count": 3,
   "metadata": {},
   "outputs": [
    {
     "data": {
      "text/plain": [
       "\u001b[36mans1\u001b[39m: \u001b[32mMyNil\u001b[39m.type = MyNil\r\n",
       "\u001b[36mans2\u001b[39m: \u001b[32mMyCons\u001b[39m = \u001b[33mMyCons\u001b[39m(\u001b[32m1\u001b[39m, \u001b[33mMyCons\u001b[39m(\u001b[32m2\u001b[39m, \u001b[33mMyCons\u001b[39m(\u001b[32m3\u001b[39m, MyNil)))"
      ]
     },
     "execution_count": 3,
     "metadata": {},
     "output_type": "execute_result"
    }
   ],
   "source": [
    "// YOUR CODE HERE\n",
    "val ans1 = MyNil\n",
    "val ans2 = MyCons(1, MyCons(2, MyCons(3, ans1)))"
   ]
  },
  {
   "cell_type": "markdown",
   "metadata": {},
   "source": [
    "### Exercise: Length of list\n",
    "Implement a `myLength` function for our list type using [pattern matching](https://docs.scala-lang.org/tour/pattern-matching.html)."
   ]
  },
  {
   "cell_type": "code",
   "execution_count": 10,
   "metadata": {},
   "outputs": [
    {
     "data": {
      "text/plain": [
       "defined \u001b[32mfunction\u001b[39m \u001b[36mmyLength\u001b[39m"
      ]
     },
     "execution_count": 10,
     "metadata": {},
     "output_type": "execute_result"
    }
   ],
   "source": [
    "// Is this function recursive?\n",
    "// Is it tail recursive?\n",
    "\n",
    "def myLength(list : NumList) : Int = {\n",
    "    // YOUR CODE HERE\n",
    "    list match {\n",
    "        case MyNil => 0\n",
    "        case MyCons(_, inlist) => 1 + myLength(inlist)\n",
    "    }\n",
    "}"
   ]
  },
  {
   "cell_type": "code",
   "execution_count": 12,
   "metadata": {},
   "outputs": [],
   "source": [
    "assert(myLength(MyNil) == 0)\n",
    "assert(myLength(MyCons(1, MyCons(2, MyNil))) == 2)"
   ]
  },
  {
   "cell_type": "markdown",
   "metadata": {},
   "source": [
    "### Exercise: Translate to built in lists\n",
    "Rewrite `length` to use [Scala's list class](https://www.scala-lang.org/api/current/scala/collection/immutable/List.html), which is very similar to the one defined above. The table below shows the equivalences:\n",
    "\n",
    "|`NumList`      | `List[Int]`|\n",
    "|---------------|------------|\n",
    "|`MyNil`        | `Nil`      |\n",
    "|`MyCons(a, b)` | `a :: b`   |"
   ]
  },
  {
   "cell_type": "code",
   "execution_count": 13,
   "metadata": {},
   "outputs": [
    {
     "data": {
      "text/plain": [
       "defined \u001b[32mfunction\u001b[39m \u001b[36mlength\u001b[39m"
      ]
     },
     "execution_count": 13,
     "metadata": {},
     "output_type": "execute_result"
    }
   ],
   "source": [
    "def length(list : List[Int]) : Int = {\n",
    "    // YOUR CODE HERE\n",
    "    list match {\n",
    "        case Nil => 0\n",
    "        case a :: b => 1 + length(b)\n",
    "    }\n",
    "}"
   ]
  },
  {
   "cell_type": "code",
   "execution_count": 14,
   "metadata": {},
   "outputs": [],
   "source": [
    "assert(length(List()) == 0)\n",
    "assert(length(List(1, 2, 3)) == 3)"
   ]
  },
  {
   "cell_type": "markdown",
   "metadata": {},
   "source": [
    "### Exercise: Higher Order functions\n",
    "Define a function called `map`. `map` should takes a list of `Int`s, and a function from `Int` to `Int`, then call the function on each element and make a new list from the results.\n",
    "\n",
    "For example, the following call:\n",
    "```\n",
    "map(List(1, 2, 3, 4, 5), (x) => x + 1)\n",
    "```\n",
    "should return in the following list\n",
    "```\n",
    "List(2, 3, 4, 5, 6)\n",
    "```"
   ]
  },
  {
   "cell_type": "code",
   "execution_count": 15,
   "metadata": {},
   "outputs": [
    {
     "data": {
      "text/plain": [
       "defined \u001b[32mfunction\u001b[39m \u001b[36mmap\u001b[39m"
      ]
     },
     "execution_count": 15,
     "metadata": {},
     "output_type": "execute_result"
    }
   ],
   "source": [
    "// YOUR CODE HERE\n",
    "def map(list: List[Int], f: Int => Int): List[Int] = list match {\n",
    "    case Nil => Nil //or could return list\n",
    "    case x :: xs => f(x) :: map(xs, f) //cause :: is the syntax for List so it returns the list f(x), map(xs, f)\n",
    "}"
   ]
  },
  {
   "cell_type": "code",
   "execution_count": 16,
   "metadata": {},
   "outputs": [],
   "source": [
    "assert(map(List(), _ + 1) == List())\n",
    "assert(map(List(1), _ + 1) == List(2))\n",
    "assert(map(List(1, 9, 2), _ + 1) == List(2, 10, 3))\n",
    "assert(map(List(1, 2, 3, 4, 5), _ + 1) == List(2, 3, 4, 5, 6))"
   ]
  },
  {
   "cell_type": "markdown",
   "metadata": {},
   "source": [
    "## Abstract Syntax Trees (AST)\n",
    "We'll be reusing the AST for sets from the previous recitation (without the complement). For more on ASTs, see\n",
    "https://en.wikipedia.org/wiki/Abstract_syntax_tree\n",
    "\n",
    "$$\n",
    "\\begin{array}{rcl}\n",
    "    \\textbf{Set} & \\rightarrow & Empty \\\\\n",
    "                 &           | & Cons(\\textbf{Set}, \\textbf{Int}) \\\\\n",
    "                 &           | & Intersection(\\textbf{Set}, \\textbf{Set}) \\\\\n",
    "                 &           | & Union(\\textbf{Set}, \\textbf{Set}) \\\\\n",
    "                 &           | & Subtraction(\\textbf{Set}, \\textbf{Set}) \\\\\n",
    "\\end{array}\n",
    "$$"
   ]
  },
  {
   "cell_type": "code",
   "execution_count": 18,
   "metadata": {},
   "outputs": [
    {
     "data": {
      "text/plain": [
       "defined \u001b[32mtrait\u001b[39m \u001b[36mMySet\u001b[39m\r\n",
       "defined \u001b[32mobject\u001b[39m \u001b[36mEmpty\u001b[39m\r\n",
       "defined \u001b[32mclass\u001b[39m \u001b[36mCons\u001b[39m\r\n",
       "defined \u001b[32mclass\u001b[39m \u001b[36mIntersection\u001b[39m\r\n",
       "defined \u001b[32mclass\u001b[39m \u001b[36mUnion\u001b[39m\r\n",
       "defined \u001b[32mclass\u001b[39m \u001b[36mSubtraction\u001b[39m"
      ]
     },
     "execution_count": 18,
     "metadata": {},
     "output_type": "execute_result"
    }
   ],
   "source": [
    "sealed trait MySet\n",
    "case object Empty extends MySet\n",
    "case class Cons(s: MySet, n: Int) extends MySet\n",
    "case class Intersection(s1: MySet, s2: MySet) extends MySet\n",
    "case class Union(s1: MySet, s2: MySet) extends MySet\n",
    "case class Subtraction(s1: MySet, s2: MySet) extends MySet"
   ]
  },
  {
   "cell_type": "markdown",
   "metadata": {},
   "source": [
    "### Exercise: Interpreter\n",
    "\n",
    "Scala Set API -- https://docs.scala-lang.org/overviews/collections/sets.html\n",
    "\n",
    "Write an interpreter for the language of sets you've created. Some useful methods of Sets:\n",
    "\n",
    "```\n",
    "Set.+:           (Set[Int], Int)            => Set[Int]\n",
    "Set.intersect:   (Set[Int], Set[Int])       => Set[Int]\n",
    "Set.union:       (Set[Int], Set[Int])       => Set[Int]\n",
    "Set.diff:        (Set[Int], Set[Int])       => Set[Int]\n",
    "```"
   ]
  },
  {
   "cell_type": "code",
   "execution_count": 18,
   "metadata": {},
   "outputs": [
    {
     "name": "stderr",
     "output_type": "stream",
     "text": [
      "cmd18.sc:3: object Empty is not a case class, nor does it have a valid unapply/unapplySeq member\n",
      "    case Empty() => Set()\n",
      "         ^cmd18.sc:3: polymorphic expression cannot be instantiated to expected type;\n",
      " found   : [A]scala.collection.immutable.Set[A]\n",
      " required: Boolean\n",
      "    case Empty() => Set()\n",
      "                       ^cmd18.sc:4: constructor cannot be instantiated to expected type;\n",
      " found   : cmd18.this.cmd17.Cons\n",
      " required: Int\n",
      "    case Cons(s, n) => eval(s) + n\n",
      "         ^cmd18.sc:4: type mismatch;\n",
      " found   : scala.collection.immutable.Set[Int]\n",
      " required: Boolean\n",
      "    case Cons(s, n) => eval(s) + n\n",
      "                               ^cmd18.sc:5: constructor cannot be instantiated to expected type;\n",
      " found   : cmd18.this.cmd17.Intersection\n",
      " required: Int\n",
      "    case Intersection(s1, s2) => eval(s1).intersect(eval(s2))\n",
      "         ^cmd18.sc:5: type mismatch;\n",
      " found   : scala.collection.immutable.Set[Int]\n",
      " required: Boolean\n",
      "    case Intersection(s1, s2) => eval(s1).intersect(eval(s2))\n",
      "                                                   ^cmd18.sc:6: constructor cannot be instantiated to expected type;\n",
      " found   : cmd18.this.cmd17.Union\n",
      " required: Int\n",
      "    case Union(s1, s2) => eval(s1) union eval(s2)\n",
      "         ^cmd18.sc:6: type mismatch;\n",
      " found   : scala.collection.immutable.Set[Int]\n",
      " required: Boolean\n",
      "    case Union(s1, s2) => eval(s1) union eval(s2)\n",
      "                                   ^cmd18.sc:7: constructor cannot be instantiated to expected type;\n",
      " found   : cmd18.this.cmd17.Subtraction\n",
      " required: Int\n",
      "    case Subtraction(s1, s2) => eval(s1) diff eval(s2)\n",
      "         ^cmd18.sc:7: type mismatch;\n",
      " found   : scala.collection.immutable.Set[Int]\n",
      " required: Boolean\n",
      "    case Subtraction(s1, s2) => eval(s1) diff eval(s2)\n",
      "                                         ^cmd18.sc:1: type mismatch;\n",
      " found   : Int => Boolean\n",
      " required: Set[Int]\n",
      "def eval(set_expression: MySet): Set[Int] = {\n",
      "                                            ^Compilation Failed"
     ]
    },
    {
     "ename": "",
     "evalue": "",
     "output_type": "error",
     "traceback": [
      "Compilation Failed"
     ]
    }
   ],
   "source": [
    "def eval(set_expression: MySet): Set[Int] = {\n",
    "    // YOUR CODE HERE\n",
    "    case Empty() => Set()\n",
    "    case Cons(s, n) => eval(s) + n\n",
    "    case Intersection(s1, s2) => eval(s1).intersect(eval(s2))\n",
    "    case Union(s1, s2) => eval(s1) union eval(s2)\n",
    "    case Subtraction(s1, s2) => eval(s1) diff eval(s2)\n",
    "    \n",
    "}"
   ]
  },
  {
   "cell_type": "code",
   "execution_count": null,
   "metadata": {},
   "outputs": [],
   "source": [
    "val set_1_2 = Cons(Cons(Empty, 1), 2)\n",
    "val set_1_2_3 = Cons(Cons(Cons(Empty, 1), 2), 3)\n",
    "val set_3 = Cons(Empty, 3)\n",
    "\n",
    "assert(eval(Empty) == Set())\n",
    "assert(eval(set_1_2) == Set(1, 2))\n",
    "assert(eval(Union(set_1_2, set_3)) == Set(1, 2, 3))\n",
    "assert(eval(Intersection(set_1_2, set_1_2_3)) == Set(1, 2))\n",
    "assert(eval(Subtraction(set_1_2, set_1_2_3)) == Set())"
   ]
  }
 ],
 "metadata": {
  "kernelspec": {
   "display_name": "Scala",
   "language": "scala",
   "name": "scala"
  },
  "language_info": {
   "codemirror_mode": "text/x-scala",
   "file_extension": ".sc",
   "mimetype": "text/x-scala",
   "name": "scala",
   "nbconvert_exporter": "script",
   "version": "2.13.3"
  }
 },
 "nbformat": 4,
 "nbformat_minor": 2
}
