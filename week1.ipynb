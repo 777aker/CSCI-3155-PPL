{
 "cells": [
  {
   "cell_type": "markdown",
   "metadata": {},
   "source": [
    "# Outline\n",
    "* Intro\n",
    "* (Im)mutability\n",
    "* Tail Recursion / Loops\n",
    "* First Class Functions / Function Types\n",
    "* Classes, Operators as Methods, Operator Overloading"
   ]
  },
  {
   "cell_type": "code",
   "execution_count": 1,
   "metadata": {
    "scrolled": true
   },
   "outputs": [
    {
     "data": {
      "text/plain": [
       "defined \u001b[32mfunction\u001b[39m \u001b[36mtestWithMessage\u001b[39m"
      ]
     },
     "execution_count": 1,
     "metadata": {},
     "output_type": "execute_result"
    }
   ],
   "source": [
    "// helper function for testing code\n",
    "def testWithMessage(v: Boolean, id: String) = {\n",
    "    try {\n",
    "        if (v) { println(s\"Test $id passed\")}\n",
    "        else { println(s\"Test $id failed\")}\n",
    "    } catch {\n",
    "        case e: NotImplementedError =>  {println(s\"Code not implemented\")}\n",
    "        case e: Exception => {println(\"Exception Thrown: \" + e)}\n",
    "    }\n",
    "}"
   ]
  },
  {
   "cell_type": "markdown",
   "metadata": {},
   "source": [
    "## Mutability\n",
    "The following examples do not compile. Fix the code."
   ]
  },
  {
   "cell_type": "code",
   "execution_count": 2,
   "metadata": {},
   "outputs": [
    {
     "data": {
      "text/html": [
       "<div class=\"jp-RenderedText\">\n",
       "<pre><code><span style=\"color: rgb(0, 187, 187)\"><span class=\"ansi-cyan-fg\">i</span></span>: <span style=\"color: rgb(0, 187, 0)\"><span class=\"ansi-green-fg\">Int</span></span> = <span style=\"color: rgb(0, 187, 0)\"><span class=\"ansi-green-fg\">0</span></span></code></pre>\n",
       "</div>"
      ],
      "text/plain": [
       "\u001b[36mi\u001b[39m: \u001b[32mInt\u001b[39m = \u001b[32m0\u001b[39m"
      ]
     },
     "metadata": {},
     "output_type": "display_data"
    }
   ],
   "source": [
    "var i = 10\n",
    "while (i > 0) {\n",
    "    i = i - 1\n",
    "}"
   ]
  },
  {
   "cell_type": "code",
   "execution_count": 10,
   "metadata": {},
   "outputs": [
    {
     "name": "stdout",
     "output_type": "stream",
     "text": [
      "11\n"
     ]
    },
    {
     "data": {
      "text/plain": [
       "defined \u001b[32mfunction\u001b[39m \u001b[36madd1\u001b[39m"
      ]
     },
     "execution_count": 10,
     "metadata": {},
     "output_type": "execute_result"
    }
   ],
   "source": [
    "def add1(x: Int): Int = {\n",
    "    val ret = x + 1 // this evaluates to emptry brackets if you try to return it\n",
    "    \n",
    "    // Last expression evaluated in a function is returned\n",
    "    ret // return actually causes problems which is weird\n",
    "}\n",
    "\n",
    "println(add1(10))"
   ]
  },
  {
   "cell_type": "markdown",
   "metadata": {},
   "source": [
    "You might be tempted to ask: if val causes so many issues, why use it?\n",
    "\n",
    "Think about the situation below."
   ]
  },
  {
   "cell_type": "code",
   "execution_count": 10,
   "metadata": {},
   "outputs": [
    {
     "name": "stderr",
     "output_type": "stream",
     "text": [
      "cmd10.sc:8: reassignment to val\n",
      "    g = g + 1\n",
      "      ^Compilation Failed"
     ]
    },
    {
     "ename": "",
     "evalue": "",
     "output_type": "error",
     "traceback": [
      "Compilation Failed"
     ]
    }
   ],
   "source": [
    "// code for insulin pump\n",
    "val g = 419 // poorly named but important parameter for proper insulin injection\n",
    "\n",
    "def injectInsulin() {\n",
    "    println(s\"Injected proper amount depending on g = $g\")\n",
    "}\n",
    "\n",
    "def sleepySoftwareEngineerIntern() {\n",
    "    g = g + 1\n",
    "}"
   ]
  },
  {
   "cell_type": "markdown",
   "metadata": {},
   "source": [
    "## Recursion\n",
    "\n",
    "Consider the following function:\n",
    "\n",
    "$\n",
    "f(x) =\n",
    "\\begin{cases}\n",
    "x/2\\ \\ \\ \\ \\ \\ \\ \\ \\ \\text{if $x$ is divisible by $2$} \\\\\n",
    "3x + 1\\ \\ \\ \\text{else}\n",
    "\\end{cases}\n",
    "$\n",
    "\n",
    "The Collatz conjecture says that applying this function repeatedly to any starting positive integer will eventually return 1.\n",
    "\n",
    "Here is a function that tests the conjecture using a while loop. The function verifies the conjecture for the given input if the function terminates."
   ]
  },
  {
   "cell_type": "code",
   "execution_count": 11,
   "metadata": {},
   "outputs": [
    {
     "data": {
      "text/plain": [
       "defined \u001b[32mfunction\u001b[39m \u001b[36mtestCollatzConjecture\u001b[39m"
      ]
     },
     "execution_count": 11,
     "metadata": {},
     "output_type": "execute_result"
    }
   ],
   "source": [
    "def testCollatzConjecture(x : Int) : Int = {\n",
    "    var n = x\n",
    "    while (n != 1) {\n",
    "        if (n % 2 == 0) {\n",
    "            n = n / 2\n",
    "        } else {\n",
    "            n = 3 * n + 1\n",
    "        }\n",
    "    }\n",
    "    // Last expression evaluated in a function is returned\n",
    "    n\n",
    "}"
   ]
  },
  {
   "cell_type": "code",
   "execution_count": 12,
   "metadata": {},
   "outputs": [
    {
     "name": "stdout",
     "output_type": "stream",
     "text": [
      "Test 1 passed\n",
      "Test 2 passed\n",
      "Test 3 passed\n"
     ]
    }
   ],
   "source": [
    "testWithMessage(testCollatzConjecture(5) == 1, \"1\")\n",
    "testWithMessage(testCollatzConjecture(17) == 1, \"2\")\n",
    "testWithMessage(testCollatzConjecture(10485) == 1, \"3\")"
   ]
  },
  {
   "cell_type": "markdown",
   "metadata": {},
   "source": [
    "Now let's implement the same function using recursion."
   ]
  },
  {
   "cell_type": "code",
   "execution_count": 24,
   "metadata": {
    "deletable": false,
    "nbgrader": {
     "checksum": "995015f979e796f66d56b862bb9c0f97",
     "grade": false,
     "grade_id": "cell-c9370c5086aca05b",
     "locked": false,
     "schema_version": 1,
     "solution": true
    }
   },
   "outputs": [
    {
     "data": {
      "text/plain": [
       "defined \u001b[32mfunction\u001b[39m \u001b[36mtestCollatzConjectureRec\u001b[39m"
      ]
     },
     "execution_count": 24,
     "metadata": {},
     "output_type": "execute_result"
    }
   ],
   "source": [
    "def testCollatzConjectureRec(x : Int) : Int = {\n",
    "    // YOUR CODE HERE\n",
    "    //var n: Int = x\n",
    "    if (x == 1) {\n",
    "        1\n",
    "    } else {\n",
    "        if(x % 2 == 0) {\n",
    "            testCollatzConjectureRec(x/2)\n",
    "        } else {\n",
    "            testCollatzConjectureRec(3*x + 1)\n",
    "        }\n",
    "    }\n",
    "}"
   ]
  },
  {
   "cell_type": "code",
   "execution_count": 25,
   "metadata": {},
   "outputs": [
    {
     "name": "stdout",
     "output_type": "stream",
     "text": [
      "Test 1 passed\n",
      "Test 2 passed\n",
      "Test 3 passed\n"
     ]
    }
   ],
   "source": [
    "testWithMessage(testCollatzConjectureRec(5) == 1, \"1\")\n",
    "testWithMessage(testCollatzConjectureRec(17) == 1, \"2\")\n",
    "testWithMessage(testCollatzConjectureRec(10485) == 1, \"3\")"
   ]
  },
  {
   "cell_type": "markdown",
   "metadata": {},
   "source": [
    "## Functions as values\n",
    "\n",
    "In Scala, functions are first-class values. Why is this useful? Suppose you're implementing a library, and you want to let users run their own function, but within some valid or safe context."
   ]
  },
  {
   "cell_type": "code",
   "execution_count": 31,
   "metadata": {
    "deletable": false,
    "nbgrader": {
     "checksum": "dab97650f18166988b1cf96ad1ab803d",
     "grade": false,
     "grade_id": "cell-03a1194fbe893b16",
     "locked": false,
     "schema_version": 1,
     "solution": true
    }
   },
   "outputs": [
    {
     "data": {
      "text/plain": [
       "defined \u001b[32mfunction\u001b[39m \u001b[36misSafe\u001b[39m\r\n",
       "defined \u001b[32mfunction\u001b[39m \u001b[36mvalidateAndCall\u001b[39m\r\n",
       "\u001b[36mres30_2\u001b[39m: \u001b[32mInt\u001b[39m = \u001b[32m3\u001b[39m\r\n",
       "defined \u001b[32mfunction\u001b[39m \u001b[36mvalidateAndCall2\u001b[39m\r\n",
       "\u001b[36mres30_4\u001b[39m: \u001b[32mInt\u001b[39m = \u001b[32m3\u001b[39m"
      ]
     },
     "execution_count": 31,
     "metadata": {},
     "output_type": "execute_result"
    }
   ],
   "source": [
    "def isSafe(n : Int) : Boolean = {\n",
    "    n > 0\n",
    "}\n",
    "\n",
    "def validateAndCall(f: Int => Int, x: Int): Int = {\n",
    "    // YOUR CODE HERE\n",
    "    if(isSafe(x)) f(x)\n",
    "    else throw new IllegalArgumentException(\"Argument is not Safe\")\n",
    "}\n",
    "\n",
    "validateAndCall(n => n + 1, 2)\n",
    "\n",
    "def validateAndCall2(f: Int => Int, isSafe: Int => Boolean, x: Int): Int = {\n",
    "    if (!isSafe(x)) {\n",
    "        throw new IllegalArgumentException(\"Argument is not Safe\")\n",
    "    }\n",
    "    f(x)\n",
    "}\n",
    "\n",
    "validateAndCall2(n => n + 1, isSafe, 2)"
   ]
  },
  {
   "cell_type": "markdown",
   "metadata": {},
   "source": [
    "Another example: filtering elements of a list based on a user-specified condition."
   ]
  },
  {
   "cell_type": "code",
   "execution_count": 32,
   "metadata": {},
   "outputs": [
    {
     "data": {
      "text/plain": [
       "\u001b[36mres31\u001b[39m: \u001b[32mList\u001b[39m[\u001b[32mInt\u001b[39m] = \u001b[33mList\u001b[39m(\u001b[32m1\u001b[39m, \u001b[32m2\u001b[39m, \u001b[32m3\u001b[39m, \u001b[32m5\u001b[39m)"
      ]
     },
     "execution_count": 32,
     "metadata": {},
     "output_type": "execute_result"
    }
   ],
   "source": [
    "List(1, 2, 3, 4, 5).filter(n => n != 4)"
   ]
  },
  {
   "cell_type": "markdown",
   "metadata": {},
   "source": [
    "The `filter` function is nice because the user does not have to write the boilerplate code to loop through the list themselves. Instead, they only need to specify the filtering function that they want to run within the context of the loop."
   ]
  },
  {
   "cell_type": "markdown",
   "metadata": {},
   "source": [
    "## Classes and Operators\n",
    "\n",
    "A `BodyOfWater` keeps track of how many fish it contains.\n",
    "1. Implement an `removeFish` method for removing fish from the `BodyOfWater` to produce a new `BodyOfWater.\n",
    "2. Then, implement a new `<><` operator which removes the given number of fish and can be used like this: `lake <>< 2` (meaninng: go fishing for 2 fish in a lake). This can use your `removeFish` method.\n",
    "3. Finaly, overload the existing `+` operator to add a `BodyOfWater` to another by creating a new `BodyOfWater` with the number of fish being the sum of the two inputs."
   ]
  },
  {
   "cell_type": "code",
   "execution_count": 33,
   "metadata": {
    "deletable": false,
    "nbgrader": {
     "checksum": "4b0c17fd5ebaa827ead12baf2d9b2380",
     "grade": false,
     "grade_id": "cell-5f6a47f2f40e8fc7",
     "locked": false,
     "schema_version": 1,
     "solution": true
    }
   },
   "outputs": [
    {
     "data": {
      "text/plain": [
       "defined \u001b[32mclass\u001b[39m \u001b[36mBodyOfWater\u001b[39m"
      ]
     },
     "execution_count": 33,
     "metadata": {},
     "output_type": "execute_result"
    }
   ],
   "source": [
    "class BodyOfWater(val numFish: Int) {\n",
    "\n",
    "    def removeFish(n: Int): BodyOfWater = {\n",
    "        // YOUR CODE HERE\n",
    "        new BodyOfWater(numFish - n)\n",
    "    }\n",
    "\n",
    "    // YOUR CODE HERE\n",
    "    def <><(n: Int): BodyOfWater = {\n",
    "        this.removeFish(n)\n",
    "    }\n",
    "    \n",
    "    /* you could also do val that are function typed\n",
    "    \n",
    "    val <>< = i => removeFish(i)\n",
    "    \n",
    "    this will take i as a parameter and return removeFish(i) which is a BodyOfWater\n",
    "    \n",
    "    then you could do lake <>< 5 or lake.<><(5)\n",
    "    \n",
    "    */\n",
    "\n",
    "    // YOUR CODE HERE\n",
    "    def +(n: BodyOfWater): BodyOfWater = {\n",
    "        new BodyOfWater(numFish + n.numFish)\n",
    "    }\n",
    "\n",
    "}"
   ]
  },
  {
   "cell_type": "code",
   "execution_count": 34,
   "metadata": {},
   "outputs": [
    {
     "name": "stdout",
     "output_type": "stream",
     "text": [
      "Test 1 passed\n",
      "Test 2 passed\n",
      "Test 3 passed\n",
      "Test 4 passed\n"
     ]
    },
    {
     "data": {
      "text/plain": [
       "\u001b[36mlake\u001b[39m: \u001b[32mBodyOfWater\u001b[39m = ammonite.$sess.cmd32$Helper$BodyOfWater@4de2e6b6\r\n",
       "\u001b[36mlake2\u001b[39m: \u001b[32mBodyOfWater\u001b[39m = ammonite.$sess.cmd32$Helper$BodyOfWater@7f0b69f5\r\n",
       "\u001b[36mlake3\u001b[39m: \u001b[32mBodyOfWater\u001b[39m = ammonite.$sess.cmd32$Helper$BodyOfWater@19bf6990\r\n",
       "\u001b[36mlake4\u001b[39m: \u001b[32mBodyOfWater\u001b[39m = ammonite.$sess.cmd32$Helper$BodyOfWater@580185d0"
      ]
     },
     "execution_count": 34,
     "metadata": {},
     "output_type": "execute_result"
    }
   ],
   "source": [
    "val lake = new BodyOfWater(10)\n",
    "val lake2 = lake <>< 5\n",
    "val lake3 = lake + lake2\n",
    "val lake4 = lake.+(lake2)\n",
    "\n",
    "// empty spaces are replaces by .\n",
    "\n",
    "testWithMessage(lake.numFish == 10, \"1\")\n",
    "testWithMessage(lake2.numFish == 5, \"2\")\n",
    "testWithMessage(lake3.numFish == 15, \"3\")\n",
    "testWithMessage(lake3.numFish == lake4.numFish, \"4\")"
   ]
  },
  {
   "cell_type": "code",
   "execution_count": null,
   "metadata": {},
   "outputs": [],
   "source": []
  }
 ],
 "metadata": {
  "kernelspec": {
   "display_name": "Scala",
   "language": "scala",
   "name": "scala"
  },
  "language_info": {
   "codemirror_mode": "text/x-scala",
   "file_extension": ".sc",
   "mimetype": "text/x-scala",
   "name": "scala",
   "nbconvert_exporter": "script",
   "version": "2.13.3"
  }
 },
 "nbformat": 4,
 "nbformat_minor": 2
}
