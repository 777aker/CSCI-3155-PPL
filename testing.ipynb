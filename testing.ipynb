{
 "cells": [
  {
   "cell_type": "code",
   "execution_count": 4,
   "metadata": {},
   "outputs": [
    {
     "data": {
      "text/plain": [
       "\u001b[36mcList\u001b[39m: \u001b[32mList\u001b[39m[(\u001b[32mDouble\u001b[39m, \u001b[32mDouble\u001b[39m)] = \u001b[33mList\u001b[39m((\u001b[32m1.0\u001b[39m, \u001b[32m1.5\u001b[39m), (\u001b[32m2.0\u001b[39m, \u001b[32m2.5\u001b[39m), (\u001b[32m3.0\u001b[39m, \u001b[32m3.5\u001b[39m))\r\n",
       "\u001b[36mxs\u001b[39m: \u001b[32mList\u001b[39m[\u001b[32mDouble\u001b[39m] = \u001b[33mList\u001b[39m(\u001b[32m1.0\u001b[39m, \u001b[32m2.0\u001b[39m, \u001b[32m3.0\u001b[39m)\r\n",
       "\u001b[36mys\u001b[39m: \u001b[32mList\u001b[39m[\u001b[32mDouble\u001b[39m] = \u001b[33mList\u001b[39m(\u001b[32m1.5\u001b[39m, \u001b[32m2.5\u001b[39m, \u001b[32m3.5\u001b[39m)\r\n",
       "\u001b[36mres3_3\u001b[39m: (\u001b[32mDouble\u001b[39m, \u001b[32mDouble\u001b[39m, \u001b[32mDouble\u001b[39m, \u001b[32mDouble\u001b[39m) = (\u001b[32m1.0\u001b[39m, \u001b[32m3.0\u001b[39m, \u001b[32m1.5\u001b[39m, \u001b[32m3.5\u001b[39m)"
      ]
     },
     "execution_count": 4,
     "metadata": {},
     "output_type": "execute_result"
    }
   ],
   "source": [
    "val cList = List((1.0, 1.5), (2.0, 2.5), (3.0, 3.5))\n",
    "val xs = cList.map (point => point._1)\n",
    "val ys = cList.map (point => point._2)\n",
    "(xs.min, xs.max, ys. min, ys.max)"
   ]
  }
 ],
 "metadata": {
  "kernelspec": {
   "display_name": "Scala",
   "language": "scala",
   "name": "scala"
  },
  "language_info": {
   "codemirror_mode": "text/x-scala",
   "file_extension": ".sc",
   "mimetype": "text/x-scala",
   "name": "scala",
   "nbconvert_exporter": "script",
   "version": "2.13.3"
  }
 },
 "nbformat": 4,
 "nbformat_minor": 4
}
